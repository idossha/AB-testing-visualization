{
 "cells": [
  {
   "cell_type": "markdown",
   "id": "0e8879bc-7967-4dad-bfd7-d9925e912edd",
   "metadata": {},
   "source": [
    "## Quick GIF \n",
    "This fuction creates a GIF with flexbile amount of images and speed of transition\n",
    "\n",
    "To view output - either right click on file and open with Google Chrome.app or paste to Word."
   ]
  },
  {
   "cell_type": "code",
   "execution_count": 2,
   "id": "757e762d",
   "metadata": {},
   "outputs": [],
   "source": [
    "from PIL import Image\n",
    "import os"
   ]
  },
  {
   "cell_type": "code",
   "execution_count": null,
   "id": "1dee0d23",
   "metadata": {},
   "outputs": [],
   "source": [
    "from PIL import Image\n",
    "import os\n",
    "\n",
    "def create_gif(image_folder, output_filepath, duration=500):\n",
    "    \"\"\"\n",
    "    Create a GIF from a set of images.\n",
    "\n",
    "    :param image_folder: Folder containing images.\n",
    "    :param output_filepath: File path to save the GIF.\n",
    "    :param duration: Duration between frames in milliseconds.\n",
    "    \"\"\"\n",
    "    images = []\n",
    "\n",
    "    # Collect image files from the specified folder\n",
    "    for file_name in sorted(os.listdir(image_folder)):\n",
    "        if file_name.endswith('.png') or file_name.endswith('.jpg'):\n",
    "            file_path = os.path.join(image_folder, file_name)\n",
    "            images.append(Image.open(file_path))\n",
    "\n",
    "    # Save the images as a GIF\n",
    "    images[0].save(output_filepath, save_all=True, append_images=images[1:], optimize=False, duration=duration, loop=0)\n",
    "\n",
    "\n",
    "path = '/Users/idohaber/Desktop/Projects/00_Visualization_code/GIF_imgs_Example'\n",
    "\n",
    "create_gif(path, 'output.gif', duration=500)\n"
   ]
  }
 ],
 "metadata": {
  "kernelspec": {
   "display_name": "Python 3 (ipykernel)",
   "language": "python",
   "name": "python3"
  },
  "language_info": {
   "codemirror_mode": {
    "name": "ipython",
    "version": 3
   },
   "file_extension": ".py",
   "mimetype": "text/x-python",
   "name": "python",
   "nbconvert_exporter": "python",
   "pygments_lexer": "ipython3",
   "version": "3.11.7"
  }
 },
 "nbformat": 4,
 "nbformat_minor": 5
}
