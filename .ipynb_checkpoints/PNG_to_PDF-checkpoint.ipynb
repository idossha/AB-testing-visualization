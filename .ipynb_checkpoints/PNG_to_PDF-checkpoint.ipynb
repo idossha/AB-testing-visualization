{
 "cells": [
  {
   "cell_type": "markdown",
   "id": "5d01b8e2-0d2b-416a-ad0f-bff73a666657",
   "metadata": {},
   "source": [
    "##### If you do not have Pillow library installed:"
   ]
  },
  {
   "cell_type": "code",
   "execution_count": null,
   "id": "feefc8a5-6653-47c9-83fc-ceea9c6d2fa3",
   "metadata": {},
   "outputs": [],
   "source": [
    "# pip install Pillow"
   ]
  },
  {
   "cell_type": "markdown",
   "id": "60f882b1-cfbe-4f65-8354-f43293e866aa",
   "metadata": {},
   "source": [
    "* these programs take the PNGs and JPEGs by index of name. So make sure you start naming with '01' and not '1'. Otherwise 11 will come before 1. Sad.\n",
    "* For example, for tens of files use 01-99, for hundreds use 001-999. "
   ]
  },
  {
   "cell_type": "code",
   "execution_count": 1,
   "id": "49a36bc8-9b20-40cb-9a7e-fa052bbcfe1f",
   "metadata": {},
   "outputs": [],
   "source": [
    "from PIL import Image #import Image class from the PIL package\n",
    "import os #import the os module for using system dependent functionality\n",
    "import time"
   ]
  },
  {
   "cell_type": "markdown",
   "id": "3cfa5fc6-8316-43ea-ad1d-1b1283d67243",
   "metadata": {},
   "source": [
    "## Use this block for a single image per page\n",
    "#### Convert all PNG and JPEG files in the specified directory to a single PDF, with an option to resize them."
   ]
  },
  {
   "cell_type": "code",
   "execution_count": null,
   "id": "6450eed6-6a5a-4d00-997d-86d0ec0429e6",
   "metadata": {},
   "outputs": [],
   "source": [
    "def imgs_to_pdf(source_dir, output_pdf, target_size=None):\n",
    "    \"\"\"\n",
    "    :param source_dir: Directory containing PNG and JPEG files.\n",
    "    :param output_pdf: Output PDF file name.\n",
    "    :param target_size: Optional tuple (width, height) to resize all images.\n",
    "    \"\"\"\n",
    "    start_time = time.time()  # Start timing\n",
    "    # Get all the PNG files from the directory\n",
    "    png_files = [f for f in os.listdir(source_dir) if f.endswith('.png')or f.endswith('.jpg') or f.endswith('.jpeg')]\n",
    "    png_files.sort()  # Sort the files if needed\n",
    "\n",
    "    # Ensure there are PNG files in the directory\n",
    "    if not png_files:\n",
    "        print(\"No PNG or JPEG files found in the directory.\")\n",
    "        return\n",
    "\n",
    "    # Initialize list for the images\n",
    "    images = []\n",
    "\n",
    "    # Open, optionally resize, convert, and append the images\n",
    "    for png_file in png_files:\n",
    "        img_path = os.path.join(source_dir, png_file)\n",
    "        img = Image.open(img_path)\n",
    "        if target_size:\n",
    "            img = img.resize(target_size)  # Resize the image if target size is specified\n",
    "        img = img.convert('RGB')  # Convert to RGB\n",
    "        images.append(img)\n",
    "\n",
    "    # Check if there are images to be saved\n",
    "    if not images:\n",
    "        print(\"No images to create PDF.\")\n",
    "        return\n",
    "\n",
    "    # Save all images to a PDF\n",
    "    images[0].save(output_pdf, save_all=True, append_images=images[1:])\n",
    "    print(f\"PDF created successfully: {output_pdf}\")\n",
    "    end_time = time.time()  # End timing\n",
    "    print(f\"The function took {end_time - start_time} seconds to run.\")\n",
    "\n"
   ]
  },
  {
   "cell_type": "markdown",
   "id": "0e02f19e-5586-454d-9937-fceb7635fda1",
   "metadata": {},
   "source": [
    "### Function 1\n",
    "###### Convert all PNG/JPEG files in the specified directory to a single PDF, with an option to resize them."
   ]
  },
  {
   "cell_type": "code",
   "execution_count": null,
   "id": "d51276ae-8aea-4ad7-b2ca-838e331c9cd8",
   "metadata": {},
   "outputs": [],
   "source": [
    "source_directory = '/Users/idohaber/Desktop/organize/FIgs/11_14_erp_plots_avg_ref'  # Replace with your directory path\n",
    "output_pdf_file = 'output_single.pdf'                                               # Output PDF file name\n",
    "target_dimensions = (1500, 1500)                                                    # Target size (width, height)\n",
    "\n",
    "imgs_to_pdf(source_directory, output_pdf_file, target_dimensions)                   # if want to resize\n",
    "#pngs_to_pdf(source_directory, output_pdf_file)                                     # if you DO NOT want to resize"
   ]
  },
  {
   "cell_type": "markdown",
   "id": "84727dff-8007-4ae4-8a7f-6e16101bc386",
   "metadata": {},
   "source": [
    "## Use this block for a comparison between two images per page\n",
    "#### Pair PNG/JPEG files from two directories based on their index and convert them to a single PDF.\n",
    "#### Images from the same index will be placed side by side on the same page."
   ]
  },
  {
   "cell_type": "code",
   "execution_count": null,
   "id": "c5c66f03-04ee-4b5c-973d-73afece573fe",
   "metadata": {},
   "outputs": [],
   "source": [
    "def pair_imgs_to_pdf(dir1, dir2, dir3, output_pdf, target_size=None):\n",
    "    \"\"\"\n",
    "    :param dir1: First directory containing PNG files and JPEG files..\n",
    "    :param dir2: Second directory containing PNG files and JPEG files..\n",
    "    :param output_pdf: Output PDF file name.\n",
    "    :param target_size: Optional tuple (width, height) to resize each individual image.\n",
    "    \"\"\"\n",
    "    # Get all the PNG files from both directories\n",
    "    png_files1 = [f for f in os.listdir(dir1) if f.endswith('.png')or f.endswith('.jpg') or f.endswith('.jpeg')]\n",
    "    png_files2 = [f for f in os.listdir(dir2) if f.endswith('.png')or f.endswith('.jpg') or f.endswith('.jpeg')]\n",
    "    png_files3 = [f for f in os.listdir(dir2) if f.endswith('.png')or f.endswith('.jpg') or f.endswith('.jpeg')]\n",
    "    png_files1.sort()  # Sort the files\n",
    "    png_files2.sort()  # Sort the files\n",
    "    png_files3.sort()  # Sort the files\n",
    "\n",
    "    # Check if both directories have PNG files\n",
    "    if not png_files1 or not png_files2:\n",
    "        print(\"PNG or JPEG files missing in one of the directories.\")\n",
    "        return\n",
    "\n",
    "    # Initialize list for the paired images\n",
    "    paired_images = []\n",
    "\n",
    "    # Process and pair the images\n",
    "    for png_file1, png_file2, png_file3 in zip(png_files1, png_files2, png_files3):\n",
    "        img_path1 = os.path.join(dir1, png_file1)\n",
    "        img_path2 = os.path.join(dir2, png_file2)\n",
    "        img_path3 = os.path.join(dir3, png_file3)\n",
    "\n",
    "        img1 = Image.open(img_path1)\n",
    "        img2 = Image.open(img_path2)\n",
    "        img3 = Image.open(img_path3)\n",
    "\n",
    "        if target_size:\n",
    "            img1 = img1.resize(target_size)\n",
    "            img2 = img2.resize(target_size)\n",
    "            img3 = img3.resize(target_size)\n",
    "\n",
    "        img1 = img1.convert('RGB')\n",
    "        img2 = img2.convert('RGB')\n",
    "        img3 = img3.convert('RGB')\n",
    "\n",
    "        # Create a new image with double the width to accommodate both images side by side\n",
    "        total_width = img1.width + img2.width + img3.width\n",
    "        max_height = max(img1.height, img2.height, img3.height)\n",
    "\n",
    "        new_img = Image.new('RGB', (total_width, max_height))\n",
    "        new_img.paste(img1, (0, 0))\n",
    "        new_img.paste(img2, (img1.width, 0))\n",
    "        new_img.paste(img3, (img1.width +img2.width, 0))\n",
    "\n",
    "        paired_images.append(new_img)\n",
    "\n",
    "    # Check if there are images to be saved in the PDF\n",
    "    if not paired_images:\n",
    "        print(\"No images to create PDF.\")\n",
    "        return\n",
    "\n",
    "    # Save all paired images to a PDF\n",
    "    paired_images[0].save(output_pdf, save_all=True, append_images=paired_images[1:])\n",
    "    print(f\"PDF created successfully: {output_pdf}\")"
   ]
  },
  {
   "cell_type": "markdown",
   "id": "2cb1d35c-9ed8-43db-9985-f6ac3954af9c",
   "metadata": {},
   "source": [
    "### Fuction 2 \n",
    "###### Pair PNG/JPEG files from 3 directories based on their index and convert them to a single PDF."
   ]
  },
  {
   "cell_type": "code",
   "execution_count": null,
   "id": "0d3252b5-9586-4318-9b42-ea2cb352d2f4",
   "metadata": {},
   "outputs": [],
   "source": [
    "dir1 = '/Users/idohaber/Desktop/organize/FIgs/11_14_erp_plots_avg_ref'              # Replace with the path to your first directory\n",
    "dir2 = '/Users/idohaber/Desktop/organize/FIgs/11_21_erp_plots_avg_ref'              # Replace with the path to your second directory\n",
    "dir3 = '/Users/idohaber/Desktop/organize/FIgs/11_21_erp_plots_avg_ref'              # Replace with the path to your third directory\n",
    "dir3 = '/Users/idohaber/Desktop/organize/FIgs/11_21_erp_plots_avg_ref'\n",
    "output_pdf_file = 'output_combined.pdf' \n",
    "target_dimensions = (1500, 1500)\n",
    "\n",
    "pair_imgs_to_pdf(dir1, dir2, output_pdf_file, target_dimensions)                    # if want to resize         \n",
    "#pair_pngs_and_convert_to_pdf(dir1, dir2, dir3, output_pdf_file)                          # if you DO NOT want to resize"
   ]
  },
  {
   "cell_type": "markdown",
   "id": "d280dfff-c5a2-4c19-9bf9-0d717cb40bb8",
   "metadata": {},
   "source": [
    "## Use this block for a comparison between two images per page\n",
    "#### Pair PNG/JPEG files from two directories based on their index and convert them to a single PDF.\n",
    "#### Images from the same index will be placed side by side on the same page."
   ]
  },
  {
   "cell_type": "code",
   "execution_count": 7,
   "id": "dbc97366-4818-4ed1-be48-742243c36981",
   "metadata": {},
   "outputs": [],
   "source": [
    "from PIL import Image\n",
    "import os\n",
    "def pair_imgs_to_pdf_sorted(dir1, dir2, output_pdf, target_size=None):\n",
    "    def get_files(directory):\n",
    "        return {os.path.splitext(f)[0]: os.path.join(directory, f) \n",
    "                for f in os.listdir(directory) \n",
    "                if f.endswith(('.png', '.jpg', '.jpeg'))}\n",
    "\n",
    "    files1 = get_files(dir1)\n",
    "    files2 = get_files(dir2)\n",
    "\n",
    "    paired_images = []\n",
    "\n",
    "    all_filenames = sorted(set(files1.keys()).union(files2.keys()))\n",
    "\n",
    "    for filename in all_filenames:\n",
    "        if filename in files1 and filename in files2:\n",
    "            img1 = Image.open(files1[filename])\n",
    "            img2 = Image.open(files2[filename])\n",
    "\n",
    "            if target_size:\n",
    "                img1 = img1.resize(target_size)\n",
    "                img2 = img2.resize(target_size)\n",
    "\n",
    "            img1 = img1.convert('RGB')\n",
    "            img2 = img2.convert('RGB')\n",
    "\n",
    "            total_width = img1.width + img2.width\n",
    "            max_height = max(img1.height, img2.height)\n",
    "\n",
    "            new_img = Image.new('RGB', (total_width, max_height))\n",
    "            new_img.paste(img1, (0, 0))\n",
    "            new_img.paste(img2, (img1.width, 0))\n",
    "\n",
    "        else:\n",
    "            img_path = files1.get(filename, files2.get(filename))\n",
    "            img = Image.open(img_path)\n",
    "\n",
    "            if target_size:\n",
    "                img = img.resize(target_size)\n",
    "\n",
    "            img = img.convert('RGB')\n",
    "\n",
    "            total_width = img.width * 2\n",
    "            max_height = img.height\n",
    "\n",
    "            new_img = Image.new('RGB', (total_width, max_height))\n",
    "            new_img.paste(img, (0, 0))\n",
    "\n",
    "        paired_images.append(new_img)\n",
    "\n",
    "    if not paired_images:\n",
    "        print(\"No images to create PDF.\")\n",
    "        return\n",
    "\n",
    "    paired_images[0].save(output_pdf, save_all=True, append_images=paired_images[1:])\n",
    "    print(f\"PDF created successfully: {output_pdf}\")"
   ]
  },
  {
   "cell_type": "markdown",
   "id": "29d8895e-9570-40f3-b37c-d51f5e61c025",
   "metadata": {},
   "source": [
    "### Function 3\n",
    "###### Pair PNG/JPEG files from two directories based on their index,convert & sort them to a single PDF."
   ]
  },
  {
   "cell_type": "code",
   "execution_count": 8,
   "id": "700e8a00-86d6-485b-9602-5e4de1279f61",
   "metadata": {},
   "outputs": [
    {
     "name": "stdout",
     "output_type": "stream",
     "text": [
      "PDF created successfully: output_combined_n_sorted.pdf\n"
     ]
    }
   ],
   "source": [
    "dir1 = '/Users/idohaber/Desktop/Data_Visualization_Output/All Output/Pilot_12_06/erp_noreref'              # Replace with the path to your first directory\n",
    "dir2 = '/Users/idohaber/Desktop/Data_Visualization_Output/All Output/Pilot_12_06/erp_avgref'            # Replace with the path to your second directory\n",
    "output_pdf_file = 'output_combined_n_sorted.pdf'                                    # Output PDF file name\n",
    "target_dimensions = (1000, 1000)                                                    # Target size for each individual image\n",
    "\n",
    "pair_imgs_to_pdf_sorted(dir1, dir2, output_pdf_file, target_dimensions)             # if want to resize\n",
    "#pair_pngs_and_convert_to_pdf(dir1, dir2, output_pdf_file)                          # if you DO NOT want to resize"
   ]
  },
  {
   "cell_type": "markdown",
   "id": "f5bbce69-5586-42c9-9042-e22f94280bfc",
   "metadata": {},
   "source": [
    "## Use this block for a comparison between n images per page\n",
    "#### Pair PNG/JPEG files from two directories based on their index and convert them to a single PDF.\n",
    "#### Images from the same index will be placed side by side on the same page."
   ]
  },
  {
   "cell_type": "code",
   "execution_count": null,
   "id": "d5ecea3c-a974-4837-9979-c35d5725eb83",
   "metadata": {},
   "outputs": [],
   "source": [
    "def pair_imgs_to_pdf(dirs, output_pdf, target_size=None):\n",
    "    \"\"\"\n",
    "    Pair images from multiple directories and save them as a PDF.\n",
    "    \n",
    "    :param dirs: List of directories containing PNG, JPG, JPEG files.\n",
    "    :param output_pdf: Output PDF file name.\n",
    "    :param target_size: Optional tuple (width, height) to resize each individual image.\n",
    "    \"\"\"\n",
    "    start_time = time.time()  # Start timing\n",
    "    # Initialize list for the paired images and file names from each directory\n",
    "    paired_images = []\n",
    "    all_files = []\n",
    "\n",
    "    # Process each directory\n",
    "    for dir in dirs:\n",
    "        files = [f for f in os.listdir(dir) if f.endswith(('.png', '.jpg', '.jpeg'))]\n",
    "        files.sort()\n",
    "        all_files.append(files)\n",
    "\n",
    "    # Check if any directory is empty\n",
    "    if any(not files for files in all_files):\n",
    "        print(\"PNG or JPEG files missing in one or more directories.\")\n",
    "        return\n",
    "\n",
    "    # Process and pair the images\n",
    "    for files in zip(*all_files):\n",
    "        imgs = []\n",
    "        for dir, file in zip(dirs, files):\n",
    "            img_path = os.path.join(dir, file)\n",
    "            img = Image.open(img_path)\n",
    "\n",
    "            if target_size:\n",
    "                img = img.resize(target_size, Image.Resampling.LANCZOS)\n",
    "\n",
    "            img = img.convert('RGB')\n",
    "            imgs.append(img)\n",
    "\n",
    "        # Calculate dimensions for the new image\n",
    "        total_width = sum(img.width for img in imgs)\n",
    "        max_height = max(img.height for img in imgs)\n",
    "\n",
    "        # Create a new image and paste the individual images\n",
    "        new_img = Image.new('RGB', (total_width, max_height))\n",
    "        x_offset = 0\n",
    "        for img in imgs:\n",
    "            new_img.paste(img, (x_offset, 0))\n",
    "            x_offset += img.width\n",
    "\n",
    "        paired_images.append(new_img)\n",
    "\n",
    "    # Check if there are images to be saved in the PDF\n",
    "    if not paired_images:\n",
    "        print(\"No images to create PDF.\")\n",
    "        return\n",
    "\n",
    "    # Save all paired images to a PDF\n",
    "    paired_images[0].save(output_pdf, save_all=True, append_images=paired_images[1:])\n",
    "    print(f\"PDF created successfully: {output_pdf}\")\n",
    "    \n",
    "    end_time = time.time()  # End timing\n",
    "    print(f\"The function took {end_time - start_time} seconds to run.\")\n"
   ]
  },
  {
   "cell_type": "markdown",
   "id": "8144b383-289c-4802-9c81-e63966b6aa1d",
   "metadata": {},
   "source": [
    "### Function 4"
   ]
  },
  {
   "cell_type": "code",
   "execution_count": null,
   "id": "27547b5a-4b13-4d5e-87fa-e8e70c09a188",
   "metadata": {},
   "outputs": [],
   "source": [
    "dir1 = '/Users/idohaber/Desktop/organize/FIgs/11_14_erp_plots_avg_ref'  # Replace with the path to your first directory\n",
    "dir2 = '/Users/idohaber/Desktop/organize/FIgs/11_14_erp_plots_avg_ref' # Replace with the path to your second directory\n",
    "dir3 = '/Users/idohaber/Desktop/organize/FIgs/11_14_erp_plots_avg_ref' # Replace with the path to your third directory\n",
    "dir4 = '/Users/idohaber/Desktop/organize/FIgs/11_14_erp_plots_avg_ref'\n",
    "\n",
    "\"\"\"\n",
    "add or remove number of dirs from list based on your needs\n",
    "set your desired target size per image\n",
    "set name for pdf\n",
    "\"\"\"\n",
    "pair_imgs_to_pdf([dir1,dir2], 'n_combined.pdf', target_size=(1000,1000)) "
   ]
  },
  {
   "cell_type": "markdown",
   "id": "b109597a-a7c6-4771-be62-7ce0386f376f",
   "metadata": {},
   "source": [
    "### Under construction:"
   ]
  },
  {
   "cell_type": "code",
   "execution_count": null,
   "id": "625412db-98a6-46a6-b579-cff7fb9bafa0",
   "metadata": {},
   "outputs": [],
   "source": [
    "def resize_with_aspect_ratio(image, target_width):\n",
    "    w_percent = (target_width / float(image.size[0]))\n",
    "    h_size = int((float(image.size[1]) * float(w_percent)))\n",
    "    return image.resize((target_width, h_size), Image.Resampling.LANCZOS)\n",
    "\n",
    "dir1 = '/Users/idohaber/Desktop/organize/FIgs/11_14_erp_plots_avg_ref'              # Replace with the path to your first directory\n",
    "dir2 = '/Users/idohaber/Desktop/organize/FIgs/11_21_erp_plots_avg_ref'   \n",
    "# Example usage\n",
    "pair_imgs_to_pdf_sorted(dir1, dir2, 'output.pdf', target_width=600)\n"
   ]
  }
 ],
 "metadata": {
  "kernelspec": {
   "display_name": "Python 3 (ipykernel)",
   "language": "python",
   "name": "python3"
  },
  "language_info": {
   "codemirror_mode": {
    "name": "ipython",
    "version": 3
   },
   "file_extension": ".py",
   "mimetype": "text/x-python",
   "name": "python",
   "nbconvert_exporter": "python",
   "pygments_lexer": "ipython3",
   "version": "3.12.0"
  }
 },
 "nbformat": 4,
 "nbformat_minor": 5
}
